{
 "cells": [
  {
   "cell_type": "markdown",
   "metadata": {
    "collapsed": true,
    "deletable": true,
    "editable": true
   },
   "source": [
    "# Image Classification\n",
    "In this project, you'll classify images from the [CIFAR-10 dataset](https://www.cs.toronto.edu/~kriz/cifar.html).  The dataset consists of airplanes, dogs, cats, and other objects. You'll preprocess the images, then train a convolutional neural network on all the samples. The images need to be normalized and the labels need to be one-hot encoded.  You'll get to apply what you learned and build a convolutional, max pooling, dropout, and fully connected layers.  At the end, you'll get to see your neural network's predictions on the sample images.\n",
    "## Get the Data\n",
    "Run the following cell to download the [CIFAR-10 dataset for python](https://www.cs.toronto.edu/~kriz/cifar-10-python.tar.gz)."
   ]
  },
  {
   "cell_type": "code",
   "execution_count": 1,
   "metadata": {
    "collapsed": false,
    "deletable": true,
    "editable": true
   },
   "outputs": [
    {
     "name": "stderr",
     "output_type": "stream",
     "text": [
      "CIFAR-10 Dataset: 171MB [01:06, 2.57MB/s]                              \n"
     ]
    },
    {
     "name": "stdout",
     "output_type": "stream",
     "text": [
      "All files found!\n"
     ]
    }
   ],
   "source": [
    "\"\"\"\n",
    "DON'T MODIFY ANYTHING IN THIS CELL THAT IS BELOW THIS LINE\n",
    "\"\"\"\n",
    "from urllib.request import urlretrieve\n",
    "from os.path import isfile, isdir\n",
    "from tqdm import tqdm\n",
    "import problem_unittests as tests\n",
    "import tarfile\n",
    "\n",
    "cifar10_dataset_folder_path = 'cifar-10-batches-py'\n",
    "\n",
    "class DLProgress(tqdm):\n",
    "    last_block = 0\n",
    "\n",
    "    def hook(self, block_num=1, block_size=1, total_size=None):\n",
    "        self.total = total_size\n",
    "        self.update((block_num - self.last_block) * block_size)\n",
    "        self.last_block = block_num\n",
    "\n",
    "if not isfile('cifar-10-python.tar.gz'):\n",
    "    with DLProgress(unit='B', unit_scale=True, miniters=1, desc='CIFAR-10 Dataset') as pbar:\n",
    "        urlretrieve(\n",
    "            'https://www.cs.toronto.edu/~kriz/cifar-10-python.tar.gz',\n",
    "            'cifar-10-python.tar.gz',\n",
    "            pbar.hook)\n",
    "\n",
    "if not isdir(cifar10_dataset_folder_path):\n",
    "    with tarfile.open('cifar-10-python.tar.gz') as tar:\n",
    "        tar.extractall()\n",
    "        tar.close()\n",
    "\n",
    "\n",
    "tests.test_folder_path(cifar10_dataset_folder_path)"
   ]
  },
  {
   "cell_type": "markdown",
   "metadata": {
    "deletable": true,
    "editable": true
   },
   "source": [
    "## Explore the Data\n",
    "The dataset is broken into batches to prevent your machine from running out of memory.  The CIFAR-10 dataset consists of 5 batches, named `data_batch_1`, `data_batch_2`, etc.. Each batch contains the labels and images that are one of the following:\n",
    "* airplane\n",
    "* automobile\n",
    "* bird\n",
    "* cat\n",
    "* deer\n",
    "* dog\n",
    "* frog\n",
    "* horse\n",
    "* ship\n",
    "* truck\n",
    "\n",
    "Understanding a dataset is part of making predictions on the data.  Play around with the code cell below by changing the `batch_id` and `sample_id`. The `batch_id` is the id for a batch (1-5). The `sample_id` is the id for a image and label pair in the batch.\n",
    "\n",
    "Ask yourself \"What are all possible labels?\", \"What is the range of values for the image data?\", \"Are the labels in order or random?\".  Answers to questions like these will help you preprocess the data and end up with better predictions."
   ]
  },
  {
   "cell_type": "code",
   "execution_count": 2,
   "metadata": {
    "collapsed": false,
    "deletable": true,
    "editable": true
   },
   "outputs": [
    {
     "name": "stdout",
     "output_type": "stream",
     "text": [
      "\n",
      "Stats of batch 1:\n",
      "Samples: 10000\n",
      "Label Counts: {0: 1005, 1: 974, 2: 1032, 3: 1016, 4: 999, 5: 937, 6: 1030, 7: 1001, 8: 1025, 9: 981}\n",
      "First 20 Labels: [6, 9, 9, 4, 1, 1, 2, 7, 8, 3, 4, 7, 7, 2, 9, 9, 9, 3, 2, 6]\n",
      "\n",
      "Example of Image 5:\n",
      "Image - Min Value: 0 Max Value: 252\n",
      "Image - Shape: (32, 32, 3)\n",
      "Label - Label Id: 1 Name: automobile\n"
     ]
    },
    {
     "data": {
      "image/png": "[encoded data removed]",
      "text/plain": [
       "<matplotlib.figure.Figure at 0x7f86a5959a20>"
      ]
     },
     "metadata": {
      "image/png": {
       "height": 250,
       "width": 253
      }
     },
     "output_type": "display_data"
    }
   ],
   "source": [
    "%matplotlib inline\n",
    "%config InlineBackend.figure_format = 'retina'\n",
    "\n",
    "import helper\n",
    "import numpy as np\n",
    "\n",
    "# Explore the dataset\n",
    "batch_id = 1\n",
    "sample_id = 5\n",
    "helper.display_stats(cifar10_dataset_folder_path, batch_id, sample_id)"
   ]
  },
  {
   "cell_type": "markdown",
   "metadata": {
    "deletable": true,
    "editable": true
   },
   "source": [
    "## Implement Preprocess Functions\n",
    "### Normalize\n",
    "In the cell below, implement the `normalize` function to take in image data, `x`, and return it as a normalized Numpy array. The values should be in the range of 0 to 1, inclusive.  The return object should be the same shape as `x`."
   ]
  },
  {
   "cell_type": "code",
   "execution_count": 4,
   "metadata": {
    "collapsed": false,
    "deletable": true,
    "editable": true
   },
   "outputs": [
    {
     "name": "stdout",
     "output_type": "stream",
     "text": [
      "Tests Passed\n"
     ]
    }
   ],
   "source": [
    "def normalize(x):\n",
    "    \"\"\"\n",
    "    Normalize a list of sample image data in the range of 0 to 1\n",
    "    : x: List of image data.  The image shape is (32, 32, 3)\n",
    "    : return: Numpy array of normalize data\n",
    "    \"\"\"\n",
    "    # TODO: Implement Function\n",
    "    x_max = np.max(x)\n",
    "    x_min =  np.min(x)\n",
    "    \n",
    "    return (x - x_min) / (x_max - x_min)\n",
    "\n",
    "\"\"\"\n",
    "DON'T MODIFY ANYTHING IN THIS CELL THAT IS BELOW THIS LINE\n",
    "\"\"\"\n",
    "tests.test_normalize(normalize)"
   ]
  },
  {
   "cell_type": "markdown",
   "metadata": {
    "deletable": true,
    "editable": true
   },
   "source": [
    "### One-hot encode\n",
    "Just like the previous code cell, you'll be implementing a function for preprocessing.  This time, you'll implement the `one_hot_encode` function. The input, `x`, are a list of labels.  Implement the function to return the list of labels as One-Hot encoded Numpy array.  The possible values for labels are 0 to 9. The one-hot encoding function should return the same encoding for each value between each call to `one_hot_encode`.  Make sure to save the map of encodings outside the function.\n",
    "\n",
    "Hint: Don't reinvent the wheel."
   ]
  },
  {
   "cell_type": "code",
   "execution_count": 5,
   "metadata": {
    "collapsed": false,
    "deletable": true,
    "editable": true
   },
   "outputs": [
    {
     "name": "stdout",
     "output_type": "stream",
     "text": [
      "Tests Passed\n"
     ]
    }
   ],
   "source": [
    "def one_hot_encode(x):\n",
    "    \"\"\"\n",
    "    One hot encode a list of sample labels. Return a one-hot encoded vector for each label.\n",
    "    : x: List of sample Labels\n",
    "    : return: Numpy array of one-hot encoded labels\n",
    "    \"\"\"\n",
    "    # TODO: Implement Function\n",
    "    rows = len(x)\n",
    "    base = np.zeros((rows, 10))\n",
    "    base[np.arange(rows),x] = 1\n",
    "    return base\n",
    "\n",
    "\n",
    "\"\"\"\n",
    "DON'T MODIFY ANYTHING IN THIS CELL THAT IS BELOW THIS LINE\n",
    "\"\"\"\n",
    "tests.test_one_hot_encode(one_hot_encode)"
   ]
  },
  {
   "cell_type": "markdown",
   "metadata": {
    "deletable": true,
    "editable": true
   },
   "source": [
    "### Randomize Data\n",
    "As you saw from exploring the data above, the order of the samples are randomized.  It doesn't hurt to randomize it again, but you don't need to for this dataset."
   ]
  },
  {
   "cell_type": "markdown",
   "metadata": {
    "deletable": true,
    "editable": true
   },
   "source": [
    "## Preprocess all the data and save it\n",
    "Running the code cell below will preprocess all the CIFAR-10 data and save it to file. The code below also uses 10% of the training data for validation."
   ]
  },
  {
   "cell_type": "code",
   "execution_count": 6,
   "metadata": {
    "collapsed": false,
    "deletable": true,
    "editable": true
   },
   "outputs": [],
   "source": [
    "\"\"\"\n",
    "DON'T MODIFY ANYTHING IN THIS CELL\n",
    "\"\"\"\n",
    "# Preprocess Training, Validation, and Testing Data\n",
    "helper.preprocess_and_save_data(cifar10_dataset_folder_path, normalize, one_hot_encode)"
   ]
  },
  {
   "cell_type": "markdown",
   "metadata": {
    "deletable": true,
    "editable": true
   },
   "source": [
    "# Check Point\n",
    "This is your first checkpoint.  If you ever decide to come back to this notebook or have to restart the notebook, you can start from here.  The preprocessed data has been saved to disk."
   ]
  },
  {
   "cell_type": "code",
   "execution_count": 1,
   "metadata": {
    "collapsed": true,
    "deletable": true,
    "editable": true
   },
   "outputs": [],
   "source": [
    "\"\"\"\n",
    "DON'T MODIFY ANYTHING IN THIS CELL\n",
    "\"\"\"\n",
    "import pickle\n",
    "import problem_unittests as tests\n",
    "import helper\n",
    "\n",
    "# Load the Preprocessed Validation data\n",
    "valid_features, valid_labels = pickle.load(open('preprocess_validation.p', mode='rb'))"
   ]
  },
  {
   "cell_type": "markdown",
   "metadata": {
    "deletable": true,
    "editable": true
   },
   "source": [
    "## Build the network\n",
    "For the neural network, you'll build each layer into a function.  Most of the code you've seen has been outside of functions. To test your code more thoroughly, we require that you put each layer in a function.  This allows us to give you better feedback and test for simple mistakes using our unittests before you submit your project.\n",
    "\n",
    "If you're finding it hard to dedicate enough time for this course a week, we've provided a small shortcut to this part of the project. In the next couple of problems, you'll have the option to use [TensorFlow Layers](https://www.tensorflow.org/api_docs/python/tf/layers) or [TensorFlow Layers (contrib)](https://www.tensorflow.org/api_guides/python/contrib.layers) to build each layer, except \"Convolutional & Max Pooling\" layer.  TF Layers is similar to Keras's and TFLearn's abstraction to layers, so it's easy to pickup.\n",
    "\n",
    "If you would like to get the most of this course, try to solve all the problems without TF Layers.  Let's begin!\n",
    "### Input\n",
    "The neural network needs to read the image data, one-hot encoded labels, and dropout keep probability. Implement the following functions\n",
    "* Implement `neural_net_image_input`\n",
    " * Return a [TF Placeholder](https://www.tensorflow.org/api_docs/python/tf/placeholder)\n",
    " * Set the shape using `image_shape` with batch size set to `None`.\n",
    " * Name the TensorFlow placeholder \"x\" using the TensorFlow `name` parameter in the [TF Placeholder](https://www.tensorflow.org/api_docs/python/tf/placeholder).\n",
    "* Implement `neural_net_label_input`\n",
    " * Return a [TF Placeholder](https://www.tensorflow.org/api_docs/python/tf/placeholder)\n",
    " * Set the shape using `n_classes` with batch size set to `None`.\n",
    " * Name the TensorFlow placeholder \"y\" using the TensorFlow `name` parameter in the [TF Placeholder](https://www.tensorflow.org/api_docs/python/tf/placeholder).\n",
    "* Implement `neural_net_keep_prob_input`\n",
    " * Return a [TF Placeholder](https://www.tensorflow.org/api_docs/python/tf/placeholder) for dropout keep probability.\n",
    " * Name the TensorFlow placeholder \"keep_prob\" using the TensorFlow `name` parameter in the [TF Placeholder](https://www.tensorflow.org/api_docs/python/tf/placeholder).\n",
    "\n",
    "These names will be used at the end of the project to load your saved model.\n",
    "\n",
    "Note: `None` for shapes in TensorFlow allow for a dynamic size."
   ]
  },
  {
   "cell_type": "code",
   "execution_count": 2,
   "metadata": {
    "collapsed": false,
    "deletable": true,
    "editable": true
   },
   "outputs": [
    {
     "name": "stdout",
     "output_type": "stream",
     "text": [
      "Image Input Tests Passed.\n",
      "Label Input Tests Passed.\n",
      "Keep Prob Tests Passed.\n"
     ]
    }
   ],
   "source": [
    "import tensorflow as tf\n",
    "\n",
    "def neural_net_image_input(image_shape):\n",
    "    \"\"\"\n",
    "    Return a Tensor for a bach of image input\n",
    "    : image_shape: Shape of the images\n",
    "    : return: Tensor for image input.\n",
    "    \"\"\"\n",
    "    # TODO: Implement Function\n",
    "    return tf.placeholder(\n",
    "        tf.float32,\n",
    "        shape=[None, image_shape[0], image_shape[1], image_shape[2]],\n",
    "        name='x')\n",
    "\n",
    "\n",
    "\n",
    "def neural_net_label_input(n_classes):\n",
    "    \"\"\"\n",
    "    Return a Tensor for a batch of label input\n",
    "    : n_classes: Number of classes\n",
    "    : return: Tensor for label input.\n",
    "    \"\"\"\n",
    "    # TODO: Implement Function\n",
    "    return tf.placeholder(\n",
    "        tf.float32,\n",
    "        shape=[None, n_classes],\n",
    "        name='y')\n",
    "\n",
    "\n",
    "def neural_net_keep_prob_input():\n",
    "    \"\"\"\n",
    "    Return a Tensor for keep probability\n",
    "    : return: Tensor for keep probability.\n",
    "    \"\"\"\n",
    "    # TODO: Implement Function\n",
    "    return tf.placeholder(\n",
    "        tf.float32,\n",
    "        shape=None,\n",
    "        name='keep_prob')\n",
    "\n",
    "\n",
    "\"\"\"\n",
    "DON'T MODIFY ANYTHING IN THIS CELL THAT IS BELOW THIS LINE\n",
    "\"\"\"\n",
    "tf.reset_default_graph()\n",
    "tests.test_nn_image_inputs(neural_net_image_input)\n",
    "tests.test_nn_label_inputs(neural_net_label_input)\n",
    "tests.test_nn_keep_prob_inputs(neural_net_keep_prob_input)"
   ]
  },
  {
   "cell_type": "markdown",
   "metadata": {
    "deletable": true,
    "editable": true
   },
   "source": [
    "### Convolution and Max Pooling Layer\n",
    "Convolution layers have a lot of success with images. For this code cell, you should implement the function `conv2d_maxpool` to apply convolution then max pooling:\n",
    "* Create the weight and bias using `conv_ksize`, `conv_num_outputs` and the shape of `x_tensor`.\n",
    "* Apply a convolution to `x_tensor` using weight and `conv_strides`.\n",
    " * We recommend you use same padding, but you're welcome to use any padding.\n",
    "* Add bias\n",
    "* Add a nonlinear activation to the convolution.\n",
    "* Apply Max Pooling using `pool_ksize` and `pool_strides`.\n",
    " * We recommend you use same padding, but you're welcome to use any padding.\n",
    "\n",
    "Note: You **can't** use [TensorFlow Layers](https://www.tensorflow.org/api_docs/python/tf/layers) or [TensorFlow Layers (contrib)](https://www.tensorflow.org/api_guides/python/contrib.layers) for this layer.  You're free to use any TensorFlow package for all the other layers."
   ]
  },
  {
   "cell_type": "code",
   "execution_count": 3,
   "metadata": {
    "collapsed": false,
    "deletable": true,
    "editable": true
   },
   "outputs": [
    {
     "name": "stdout",
     "output_type": "stream",
     "text": [
      "Tests Passed\n"
     ]
    }
   ],
   "source": [
    "def conv2d_maxpool(x_tensor, conv_num_outputs, conv_ksize, conv_strides, pool_ksize, pool_strides):\n",
    "    \"\"\"\n",
    "    Apply convolution then max pooling to x_tensor\n",
    "    :param x_tensor: TensorFlow Tensor\n",
    "    :param conv_num_outputs: Number of outputs for the convolutional layer\n",
    "    :param conv_strides: Stride 2-D Tuple for convolution\n",
    "    :param pool_ksize: kernal size 2-D Tuple for pool\n",
    "    :param pool_strides: Stride 2-D Tuple for pool\n",
    "    : return: A tensor that represents convolution and max pooling of x_tensor\n",
    "    \"\"\"\n",
    "    # TODO: Implement Function\n",
    "    # Weight and bias\n",
    "    weight = tf.Variable(tf.truncated_normal(\n",
    "        [*conv_ksize, int(x_tensor.get_shape().dims[3]), conv_num_outputs],stddev=0.1))\n",
    "    bias = tf.Variable(tf.zeros(conv_num_outputs))\n",
    "\n",
    "    # Apply Convolution\n",
    "    conv_layer = tf.nn.conv2d(x_tensor, weight, strides=[1,conv_strides[0],conv_strides[1],1], padding='SAME')\n",
    "    \n",
    "    # Add bias\n",
    "    conv_layer = tf.nn.bias_add(conv_layer, bias)\n",
    "    \n",
    "    # Apply activation function\n",
    "    conv_layer = tf.nn.relu(conv_layer)\n",
    "    \n",
    "    # Max pooling\n",
    "    return tf.nn.max_pool(conv_layer, [1,pool_ksize[0],pool_ksize[1],1], [1,pool_strides[0],pool_strides[1],1], 'SAME')\n",
    "\n",
    "\n",
    "\"\"\"\n",
    "DON'T MODIFY ANYTHING IN THIS CELL THAT IS BELOW THIS LINE\n",
    "\"\"\"\n",
    "tests.test_con_pool(conv2d_maxpool)"
   ]
  },
  {
   "cell_type": "markdown",
   "metadata": {
    "deletable": true,
    "editable": true
   },
   "source": [
    "### Flatten Layer\n",
    "Implement the `flatten` function to change the dimension of `x_tensor` from a 4-D tensor to a 2-D tensor.  The output should be the shape (*Batch Size*, *Flattened Image Size*). You can use [TensorFlow Layers](https://www.tensorflow.org/api_docs/python/tf/layers) or [TensorFlow Layers (contrib)](https://www.tensorflow.org/api_guides/python/contrib.layers) for this layer."
   ]
  },
  {
   "cell_type": "code",
   "execution_count": 4,
   "metadata": {
    "collapsed": false,
    "deletable": true,
    "editable": true
   },
   "outputs": [
    {
     "name": "stdout",
     "output_type": "stream",
     "text": [
      "Tests Passed\n"
     ]
    }
   ],
   "source": [
    "def flatten(x_tensor):\n",
    "    \"\"\"\n",
    "    Flatten x_tensor to (Batch Size, Flattened Image Size)\n",
    "    : x_tensor: A tensor of size (Batch Size, ...), where ... are the image dimensions.\n",
    "    : return: A tensor of size (Batch Size, Flattened Image Size).\n",
    "    \"\"\"\n",
    "    # TODO: Implement Function\n",
    "    size = int(x_tensor.get_shape().dims[1]) * int(x_tensor.get_shape().dims[2]) * int(x_tensor.get_shape().dims[3])\n",
    "    return tf.reshape(x_tensor, [-1, size])\n",
    "\n",
    "\n",
    "\"\"\"\n",
    "DON'T MODIFY ANYTHING IN THIS CELL THAT IS BELOW THIS LINE\n",
    "\"\"\"\n",
    "tests.test_flatten(flatten)"
   ]
  },
  {
   "cell_type": "markdown",
   "metadata": {
    "deletable": true,
    "editable": true
   },
   "source": [
    "### Fully-Connected Layer\n",
    "Implement the `fully_conn` function to apply a fully connected layer to `x_tensor` with the shape (*Batch Size*, *num_outputs*). You can use [TensorFlow Layers](https://www.tensorflow.org/api_docs/python/tf/layers) or [TensorFlow Layers (contrib)](https://www.tensorflow.org/api_guides/python/contrib.layers) for this layer."
   ]
  },
  {
   "cell_type": "code",
   "execution_count": 5,
   "metadata": {
    "collapsed": false,
    "deletable": true,
    "editable": true
   },
   "outputs": [
    {
     "name": "stdout",
     "output_type": "stream",
     "text": [
      "Tests Passed\n"
     ]
    }
   ],
   "source": [
    "def fully_conn(x_tensor, num_outputs):\n",
    "    \"\"\"\n",
    "    Apply a fully connected layer to x_tensor using weight and bias\n",
    "    : x_tensor: A 2-D tensor where the first dimension is batch size.\n",
    "    : num_outputs: The number of output that the new tensor should be.\n",
    "    : return: A 2-D tensor where the second dimension is num_outputs.\n",
    "    \"\"\"\n",
    "    # TODO: Implement Function\n",
    "    weight = tf.Variable(tf.truncated_normal([int(x_tensor.get_shape().dims[1]), num_outputs],stddev=0.1))\n",
    "    bias = tf.Variable(tf.zeros([num_outputs]))\n",
    "    \n",
    "    return tf.nn.relu(tf.add(tf.matmul(x_tensor, weight),bias))\n",
    "\n",
    "\n",
    "\"\"\"\n",
    "DON'T MODIFY ANYTHING IN THIS CELL THAT IS BELOW THIS LINE\n",
    "\"\"\"\n",
    "tests.test_fully_conn(fully_conn)"
   ]
  },
  {
   "cell_type": "markdown",
   "metadata": {
    "deletable": true,
    "editable": true
   },
   "source": [
    "### Output Layer\n",
    "Implement the `output` function to apply a fully connected layer to `x_tensor` with the shape (*Batch Size*, *num_outputs*). You can use [TensorFlow Layers](https://www.tensorflow.org/api_docs/python/tf/layers) or [TensorFlow Layers (contrib)](https://www.tensorflow.org/api_guides/python/contrib.layers) for this layer.\n",
    "\n",
    "Note: Activation, softmax, or cross entropy shouldn't be applied to this."
   ]
  },
  {
   "cell_type": "code",
   "execution_count": 6,
   "metadata": {
    "collapsed": false,
    "deletable": true,
    "editable": true
   },
   "outputs": [
    {
     "name": "stdout",
     "output_type": "stream",
     "text": [
      "Tests Passed\n"
     ]
    }
   ],
   "source": [
    "def output(x_tensor, num_outputs):\n",
    "    \"\"\"\n",
    "    Apply a output layer to x_tensor using weight and bias\n",
    "    : x_tensor: A 2-D tensor where the first dimension is batch size.\n",
    "    : num_outputs: The number of output that the new tensor should be.\n",
    "    : return: A 2-D tensor where the second dimension is num_outputs.\n",
    "    \"\"\"\n",
    "    # TODO: Implement Function\n",
    "    weight = tf.Variable(tf.truncated_normal([int(x_tensor.get_shape().dims[1]), num_outputs]))\n",
    "    bias = tf.Variable(tf.zeros([num_outputs]))\n",
    "    return tf.add(tf.matmul(x_tensor, weight), bias)\n",
    "\n",
    "\n",
    "\"\"\"\n",
    "DON'T MODIFY ANYTHING IN THIS CELL THAT IS BELOW THIS LINE\n",
    "\"\"\"\n",
    "tests.test_output(output)"
   ]
  },
  {
   "cell_type": "markdown",
   "metadata": {
    "deletable": true,
    "editable": true
   },
   "source": [
    "### Create Convolutional Model\n",
    "Implement the function `conv_net` to create a convolutional neural network model. The function takes in a batch of images, `x`, and outputs logits.  Use the layers you created above to create this model:\n",
    "\n",
    "* Apply 1, 2, or 3 Convolution and Max Pool layers\n",
    "* Apply a Flatten Layer\n",
    "* Apply 1, 2, or 3 Fully Connected Layers\n",
    "* Apply an Output Layer\n",
    "* Return the output\n",
    "* Apply [TensorFlow's Dropout](https://www.tensorflow.org/api_docs/python/tf/nn/dropout) to one or more layers in the model using `keep_prob`. "
   ]
  },
  {
   "cell_type": "code",
   "execution_count": 7,
   "metadata": {
    "collapsed": false,
    "deletable": true,
    "editable": true
   },
   "outputs": [
    {
     "name": "stdout",
     "output_type": "stream",
     "text": [
      "Neural Network Built!\n"
     ]
    }
   ],
   "source": [
    "def conv_net(x, keep_prob):\n",
    "    \"\"\"\n",
    "    Create a convolutional neural network model\n",
    "    : x: Placeholder tensor that holds image data.\n",
    "    : keep_prob: Placeholder tensor that hold dropout keep probability.\n",
    "    : return: Tensor that represents logits\n",
    "    \"\"\"\n",
    "    # TODO: Apply 1, 2, or 3 Convolution and Max Pool layers\n",
    "    #    Play around with different number of outputs, kernel size and stride\n",
    "    # Function Definition from Above:\n",
    "    conv_num_outputs = 16\n",
    "    conv_ksize = (6,6)\n",
    "    conv_strides = (1,1) \n",
    "    pool_ksize = (5,5)\n",
    "    pool_strides = (1,1) \n",
    "    model = conv2d_maxpool(x, conv_num_outputs, conv_ksize, conv_strides, pool_ksize, pool_strides)\n",
    "    \n",
    "    conv_num_outputs2 = 32\n",
    "    conv_ksize2 = (4,4)\n",
    "    conv_strides2 = (1,1) \n",
    "    pool_ksize2 = (3,3)\n",
    "    pool_strides2 = (2,2) \n",
    "    model = conv2d_maxpool(model, conv_num_outputs2, conv_ksize2, conv_strides2, pool_ksize2, pool_strides2)\n",
    "    \n",
    "    conv_num_outputs3 = 32\n",
    "    conv_ksize3 = (3,3)\n",
    "    conv_strides3 = (1,1) \n",
    "    pool_ksize3 = (3,3)\n",
    "    pool_strides3 = (2,2) \n",
    "    model = conv2d_maxpool(model, conv_num_outputs3, conv_ksize3, conv_strides3, pool_ksize3, pool_strides3)\n",
    "    \n",
    "    # TODO: Apply a Flatten Layer\n",
    "    # Function Definition from Above:\n",
    "    model = flatten(model)\n",
    "\n",
    "    # TODO: Apply 1, 2, or 3 Fully Connected Layers\n",
    "    #    Play around with different number of outputs\n",
    "    # Function Definition from Above:\n",
    "    num_outputs_fc1 = 512\n",
    "    model = fully_conn(model, num_outputs_fc1)\n",
    "    model = tf.nn.dropout(model, keep_prob)\n",
    "    \n",
    "    num_outputs_fc2 = 256\n",
    "    model = fully_conn(model, num_outputs_fc2)\n",
    "    model = tf.nn.dropout(model, keep_prob)\n",
    "    \n",
    "    \n",
    "    # TODO: Apply an Output Layer\n",
    "    #    Set this to the number of classes\n",
    "    # Function Definition from Above:\n",
    "    num_outputs_out = 10\n",
    "    model = output(model, num_outputs_out)\n",
    "    \n",
    "    \n",
    "    # TODO: return output\n",
    "    return model\n",
    "\n",
    "\n",
    "\"\"\"\n",
    "DON'T MODIFY ANYTHING IN THIS CELL THAT IS BELOW THIS LINE\n",
    "\"\"\"\n",
    "\n",
    "##############################\n",
    "## Build the Neural Network ##\n",
    "##############################\n",
    "\n",
    "# Remove previous weights, bias, inputs, etc..\n",
    "tf.reset_default_graph()\n",
    "\n",
    "# Inputs\n",
    "x = neural_net_image_input((32, 32, 3))\n",
    "y = neural_net_label_input(10)\n",
    "keep_prob = neural_net_keep_prob_input()\n",
    "\n",
    "# Model\n",
    "logits = conv_net(x, keep_prob)\n",
    "\n",
    "# Name logits Tensor, so that is can be loaded from disk after training\n",
    "logits = tf.identity(logits, name='logits')\n",
    "\n",
    "# Loss and Optimizer\n",
    "cost = tf.reduce_mean(tf.nn.softmax_cross_entropy_with_logits(logits=logits, labels=y))\n",
    "optimizer = tf.train.AdamOptimizer().minimize(cost)\n",
    "\n",
    "# Accuracy\n",
    "correct_pred = tf.equal(tf.argmax(logits, 1), tf.argmax(y, 1))\n",
    "accuracy = tf.reduce_mean(tf.cast(correct_pred, tf.float32), name='accuracy')\n",
    "\n",
    "tests.test_conv_net(conv_net)"
   ]
  },
  {
   "cell_type": "markdown",
   "metadata": {
    "deletable": true,
    "editable": true
   },
   "source": [
    "## Train the Neural Network\n",
    "### Single Optimization\n",
    "Implement the function `train_neural_network` to do a single optimization.  The optimization should use `optimizer` to optimize in `session` with a `feed_dict` of the following:\n",
    "* `x` for image input\n",
    "* `y` for labels\n",
    "* `keep_prob` for keep probability for dropout\n",
    "\n",
    "This function will be called for each batch, so `tf.global_variables_initializer()` has already been called.\n",
    "\n",
    "Note: Nothing needs to be returned. This function is only optimizing the neural network."
   ]
  },
  {
   "cell_type": "code",
   "execution_count": 8,
   "metadata": {
    "collapsed": false,
    "deletable": true,
    "editable": true
   },
   "outputs": [
    {
     "name": "stdout",
     "output_type": "stream",
     "text": [
      "Tests Passed\n"
     ]
    }
   ],
   "source": [
    "def train_neural_network(session, optimizer, keep_probability, feature_batch, label_batch):\n",
    "    \"\"\"\n",
    "    Optimize the session on a batch of images and labels\n",
    "    : session: Current TensorFlow session\n",
    "    : optimizer: TensorFlow optimizer function\n",
    "    : keep_probability: keep probability\n",
    "    : feature_batch: Batch of Numpy image data\n",
    "    : label_batch: Batch of Numpy label data\n",
    "    \"\"\"\n",
    "    # TODO: Implement Function\n",
    "    session.run(optimizer,feed_dict={x:feature_batch,y:label_batch,keep_prob:keep_probability})\n",
    "\n",
    "\n",
    "\"\"\"\n",
    "DON'T MODIFY ANYTHING IN THIS CELL THAT IS BELOW THIS LINE\n",
    "\"\"\"\n",
    "tests.test_train_nn(train_neural_network)"
   ]
  },
  {
   "cell_type": "markdown",
   "metadata": {
    "deletable": true,
    "editable": true
   },
   "source": [
    "### Show Stats\n",
    "Implement the function `print_stats` to print loss and validation accuracy.  Use the global variables `valid_features` and `valid_labels` to calculate validation accuracy.  Use a keep probability of `1.0` to calculate the loss and validation accuracy."
   ]
  },
  {
   "cell_type": "code",
   "execution_count": 9,
   "metadata": {
    "collapsed": false,
    "deletable": true,
    "editable": true
   },
   "outputs": [],
   "source": [
    "def print_stats(session, feature_batch, label_batch, cost, accuracy):\n",
    "    \"\"\"\n",
    "    Print information about loss and validation accuracy\n",
    "    : session: Current TensorFlow session\n",
    "    : feature_batch: Batch of Numpy image data\n",
    "    : label_batch: Batch of Numpy label data\n",
    "    : cost: TensorFlow cost function\n",
    "    : accuracy: TensorFlow accuracy function\n",
    "    \"\"\"\n",
    "    # TODO: Implement Function\n",
    "    c = session.run(cost, feed_dict={x:feature_batch,y:label_batch,keep_prob:1.0})\n",
    "    a = session.run(accuracy, feed_dict={x:valid_features,y:valid_labels,keep_prob:1.0})\n",
    "\n",
    "    \n",
    "    print(\"Training Cost: {}\".format(c))\n",
    "    print(\"Validation Accuracy: {}\".format(a))"
   ]
  },
  {
   "cell_type": "markdown",
   "metadata": {
    "deletable": true,
    "editable": true
   },
   "source": [
    "### Hyperparameters\n",
    "Tune the following parameters:\n",
    "* Set `epochs` to the number of iterations until the network stops learning or start overfitting\n",
    "* Set `batch_size` to the highest number that your machine has memory for.  Most people set them to common sizes of memory:\n",
    " * 64\n",
    " * 128\n",
    " * 256\n",
    " * ...\n",
    "* Set `keep_probability` to the probability of keeping a node using dropout"
   ]
  },
  {
   "cell_type": "code",
   "execution_count": 10,
   "metadata": {
    "collapsed": true,
    "deletable": true,
    "editable": true
   },
   "outputs": [],
   "source": [
    "# TODO: Tune Parameters\n",
    "epochs = 45\n",
    "batch_size = 32\n",
    "keep_probability = .4"
   ]
  },
  {
   "cell_type": "markdown",
   "metadata": {
    "deletable": true,
    "editable": true
   },
   "source": [
    "### Train on a Single CIFAR-10 Batch\n",
    "Instead of training the neural network on all the CIFAR-10 batches of data, let's use a single batch. This should save time while you iterate on the model to get a better accuracy.  Once the final validation accuracy is 50% or greater, run the model on all the data in the next section."
   ]
  },
  {
   "cell_type": "code",
   "execution_count": 11,
   "metadata": {
    "collapsed": false,
    "deletable": true,
    "editable": true
   },
   "outputs": [
    {
     "name": "stdout",
     "output_type": "stream",
     "text": [
      "Checking the Training on a Single Batch...\n",
      "Epoch  1, CIFAR-10 Batch 1:  Training Cost: 2.09824800491333\n",
      "Validation Accuracy: 0.23679997026920319\n",
      "Epoch  2, CIFAR-10 Batch 1:  Training Cost: 1.8792425394058228\n",
      "Validation Accuracy: 0.2491999864578247\n",
      "Epoch  3, CIFAR-10 Batch 1:  Training Cost: 1.7912423610687256\n",
      "Validation Accuracy: 0.30319997668266296\n",
      "Epoch  4, CIFAR-10 Batch 1:  Training Cost: 1.653088927268982\n",
      "Validation Accuracy: 0.3357999622821808\n",
      "Epoch  5, CIFAR-10 Batch 1:  Training Cost: 1.7321982383728027\n",
      "Validation Accuracy: 0.3553999960422516\n",
      "Epoch  6, CIFAR-10 Batch 1:  Training Cost: 1.4809560775756836\n",
      "Validation Accuracy: 0.40699997544288635\n",
      "Epoch  7, CIFAR-10 Batch 1:  Training Cost: 1.5210872888565063\n",
      "Validation Accuracy: 0.4079999625682831\n",
      "Epoch  8, CIFAR-10 Batch 1:  Training Cost: 1.4922397136688232\n",
      "Validation Accuracy: 0.39819997549057007\n",
      "Epoch  9, CIFAR-10 Batch 1:  Training Cost: 1.4668407440185547\n",
      "Validation Accuracy: 0.40219995379447937\n",
      "Epoch 10, CIFAR-10 Batch 1:  Training Cost: 1.43894624710083\n",
      "Validation Accuracy: 0.4203999638557434\n",
      "Epoch 11, CIFAR-10 Batch 1:  Training Cost: 1.4360501766204834\n",
      "Validation Accuracy: 0.44419994950294495\n",
      "Epoch 12, CIFAR-10 Batch 1:  Training Cost: 1.3721973896026611\n",
      "Validation Accuracy: 0.4509999752044678\n",
      "Epoch 13, CIFAR-10 Batch 1:  Training Cost: 1.307898759841919\n",
      "Validation Accuracy: 0.4493999779224396\n",
      "Epoch 14, CIFAR-10 Batch 1:  Training Cost: 1.2860825061798096\n",
      "Validation Accuracy: 0.4663999676704407\n",
      "Epoch 15, CIFAR-10 Batch 1:  Training Cost: 1.1537718772888184\n",
      "Validation Accuracy: 0.45619997382164\n",
      "Epoch 16, CIFAR-10 Batch 1:  Training Cost: 1.1388531923294067\n",
      "Validation Accuracy: 0.4533999562263489\n",
      "Epoch 17, CIFAR-10 Batch 1:  Training Cost: 1.103264570236206\n",
      "Validation Accuracy: 0.4415999948978424\n",
      "Epoch 18, CIFAR-10 Batch 1:  Training Cost: 1.023118019104004\n",
      "Validation Accuracy: 0.46219995617866516\n",
      "Epoch 19, CIFAR-10 Batch 1:  Training Cost: 1.1214433908462524\n",
      "Validation Accuracy: 0.49299994111061096\n",
      "Epoch 20, CIFAR-10 Batch 1:  Training Cost: 1.019179105758667\n",
      "Validation Accuracy: 0.45399993658065796\n",
      "Epoch 21, CIFAR-10 Batch 1:  Training Cost: 0.8201436996459961\n",
      "Validation Accuracy: 0.48659995198249817\n",
      "Epoch 22, CIFAR-10 Batch 1:  Training Cost: 0.9688878655433655\n",
      "Validation Accuracy: 0.4861999750137329\n",
      "Epoch 23, CIFAR-10 Batch 1:  Training Cost: 0.7536205053329468\n",
      "Validation Accuracy: 0.4731999337673187\n",
      "Epoch 24, CIFAR-10 Batch 1:  Training Cost: 0.7394416332244873\n",
      "Validation Accuracy: 0.4705999195575714\n",
      "Epoch 25, CIFAR-10 Batch 1:  Training Cost: 0.7276606559753418\n",
      "Validation Accuracy: 0.4845999479293823\n",
      "Epoch 26, CIFAR-10 Batch 1:  Training Cost: 0.6683998107910156\n",
      "Validation Accuracy: 0.5113999247550964\n",
      "Epoch 27, CIFAR-10 Batch 1:  Training Cost: 0.8466057181358337\n",
      "Validation Accuracy: 0.4893999695777893\n",
      "Epoch 28, CIFAR-10 Batch 1:  Training Cost: 0.5809799432754517\n",
      "Validation Accuracy: 0.5079998970031738\n",
      "Epoch 29, CIFAR-10 Batch 1:  Training Cost: 0.5403321385383606\n",
      "Validation Accuracy: 0.4869999289512634\n",
      "Epoch 30, CIFAR-10 Batch 1:  Training Cost: 0.4401160478591919\n",
      "Validation Accuracy: 0.5013999938964844\n",
      "Epoch 31, CIFAR-10 Batch 1:  Training Cost: 0.4957183599472046\n",
      "Validation Accuracy: 0.5057999491691589\n",
      "Epoch 32, CIFAR-10 Batch 1:  Training Cost: 0.44172075390815735\n",
      "Validation Accuracy: 0.49619993567466736\n",
      "Epoch 33, CIFAR-10 Batch 1:  Training Cost: 0.4438255727291107\n",
      "Validation Accuracy: 0.5065999627113342\n",
      "Epoch 34, CIFAR-10 Batch 1:  Training Cost: 0.25831928849220276\n",
      "Validation Accuracy: 0.5069999694824219\n",
      "Epoch 35, CIFAR-10 Batch 1:  Training Cost: 0.12441055476665497\n",
      "Validation Accuracy: 0.5181999206542969\n",
      "Epoch 36, CIFAR-10 Batch 1:  Training Cost: 0.12142104655504227\n",
      "Validation Accuracy: 0.5035999417304993\n",
      "Epoch 37, CIFAR-10 Batch 1:  Training Cost: 0.18339771032333374\n",
      "Validation Accuracy: 0.49999991059303284\n",
      "Epoch 38, CIFAR-10 Batch 1:  Training Cost: 0.4023910164833069\n",
      "Validation Accuracy: 0.5191999077796936\n",
      "Epoch 39, CIFAR-10 Batch 1:  Training Cost: 0.17663989961147308\n",
      "Validation Accuracy: 0.5194000005722046\n",
      "Epoch 40, CIFAR-10 Batch 1:  Training Cost: 0.2576349675655365\n",
      "Validation Accuracy: 0.5125999450683594\n",
      "Epoch 41, CIFAR-10 Batch 1:  Training Cost: 0.21060049533843994\n",
      "Validation Accuracy: 0.514799952507019\n",
      "Epoch 42, CIFAR-10 Batch 1:  Training Cost: 0.266960471868515\n",
      "Validation Accuracy: 0.5091999769210815\n",
      "Epoch 43, CIFAR-10 Batch 1:  Training Cost: 0.16085413098335266\n",
      "Validation Accuracy: 0.5049999952316284\n",
      "Epoch 44, CIFAR-10 Batch 1:  Training Cost: 0.14749665558338165\n",
      "Validation Accuracy: 0.5175999402999878\n",
      "Epoch 45, CIFAR-10 Batch 1:  Training Cost: 0.11643128097057343\n",
      "Validation Accuracy: 0.5212000012397766\n"
     ]
    }
   ],
   "source": [
    "\"\"\"\n",
    "DON'T MODIFY ANYTHING IN THIS CELL\n",
    "\"\"\"\n",
    "print('Checking the Training on a Single Batch...')\n",
    "with tf.Session() as sess:\n",
    "    # Initializing the variables\n",
    "    sess.run(tf.global_variables_initializer())\n",
    "    \n",
    "    # Training cycle\n",
    "    for epoch in range(epochs):\n",
    "        batch_i = 1\n",
    "        for batch_features, batch_labels in helper.load_preprocess_training_batch(batch_i, batch_size):\n",
    "            train_neural_network(sess, optimizer, keep_probability, batch_features, batch_labels)\n",
    "        print('Epoch {:>2}, CIFAR-10 Batch {}:  '.format(epoch + 1, batch_i), end='')\n",
    "        print_stats(sess, batch_features, batch_labels, cost, accuracy)"
   ]
  },
  {
   "cell_type": "markdown",
   "metadata": {
    "deletable": true,
    "editable": true
   },
   "source": [
    "### Fully Train the Model\n",
    "Now that you got a good accuracy with a single CIFAR-10 batch, try it with all five batches."
   ]
  },
  {
   "cell_type": "code",
   "execution_count": null,
   "metadata": {
    "collapsed": false,
    "deletable": true,
    "editable": true
   },
   "outputs": [
    {
     "name": "stdout",
     "output_type": "stream",
     "text": [
      "Training...\n",
      "Epoch  1, CIFAR-10 Batch 1:  Training Cost: 2.0856456756591797\n",
      "Validation Accuracy: 0.19519999623298645\n",
      "Epoch  1, CIFAR-10 Batch 2:  Training Cost: 1.996260404586792\n",
      "Validation Accuracy: 0.25199997425079346\n",
      "Epoch  1, CIFAR-10 Batch 3:  Training Cost: 2.015986680984497\n",
      "Validation Accuracy: 0.2537999749183655\n",
      "Epoch  1, CIFAR-10 Batch 4:  Training Cost: 1.780640959739685\n",
      "Validation Accuracy: 0.32339996099472046\n",
      "Epoch  1, CIFAR-10 Batch 5:  Training Cost: 1.9565038681030273\n",
      "Validation Accuracy: 0.3256000280380249\n",
      "Epoch  2, CIFAR-10 Batch 1:  Training Cost: 1.8034298419952393\n",
      "Validation Accuracy: 0.35580000281333923\n",
      "Epoch  2, CIFAR-10 Batch 2:  Training Cost: 1.8056186437606812\n",
      "Validation Accuracy: 0.3736000061035156\n",
      "Epoch  2, CIFAR-10 Batch 3:  Training Cost: 1.8052186965942383\n",
      "Validation Accuracy: 0.3771999776363373\n",
      "Epoch  2, CIFAR-10 Batch 4:  Training Cost: 1.5401606559753418\n",
      "Validation Accuracy: 0.3885999619960785\n",
      "Epoch  2, CIFAR-10 Batch 5:  Training Cost: 1.7950973510742188\n",
      "Validation Accuracy: 0.37459996342658997\n",
      "Epoch  3, CIFAR-10 Batch 1:  Training Cost: 1.7093570232391357\n",
      "Validation Accuracy: 0.41839998960494995\n",
      "Epoch  3, CIFAR-10 Batch 2:  Training Cost: 1.5474565029144287\n",
      "Validation Accuracy: 0.43039998412132263\n",
      "Epoch  3, CIFAR-10 Batch 3:  Training Cost: 1.5659892559051514\n",
      "Validation Accuracy: 0.43039995431900024\n",
      "Epoch  3, CIFAR-10 Batch 4:  Training Cost: 1.6303541660308838\n",
      "Validation Accuracy: 0.4383999705314636\n",
      "Epoch  3, CIFAR-10 Batch 5:  Training Cost: 1.9575504064559937\n",
      "Validation Accuracy: 0.4183999300003052\n",
      "Epoch  4, CIFAR-10 Batch 1:  Training Cost: 1.6363873481750488\n",
      "Validation Accuracy: 0.444599986076355\n",
      "Epoch  4, CIFAR-10 Batch 2:  Training Cost: 1.5206859111785889\n",
      "Validation Accuracy: 0.44599997997283936\n",
      "Epoch  4, CIFAR-10 Batch 3:  Training Cost: 1.370404601097107\n",
      "Validation Accuracy: 0.47759997844696045\n",
      "Epoch  4, CIFAR-10 Batch 4:  Training Cost: 1.5576149225234985\n",
      "Validation Accuracy: 0.43299993872642517\n",
      "Epoch  4, CIFAR-10 Batch 5:  Training Cost: 1.5776526927947998\n",
      "Validation Accuracy: 0.4757999777793884\n",
      "Epoch  5, CIFAR-10 Batch 1:  Training Cost: 1.1991511583328247\n",
      "Validation Accuracy: 0.4845999777317047\n",
      "Epoch  5, CIFAR-10 Batch 2:  Training Cost: 1.3882100582122803\n",
      "Validation Accuracy: 0.493399977684021\n",
      "Epoch  5, CIFAR-10 Batch 3:  Training Cost: 1.515971302986145\n",
      "Validation Accuracy: 0.49039995670318604\n",
      "Epoch  5, CIFAR-10 Batch 4:  Training Cost: 1.8832191228866577\n",
      "Validation Accuracy: 0.4405999779701233\n",
      "Epoch  5, CIFAR-10 Batch 5:  Training Cost: 1.5644322633743286\n",
      "Validation Accuracy: 0.5033999681472778\n",
      "Epoch  6, CIFAR-10 Batch 1:  Training Cost: 1.1736416816711426\n",
      "Validation Accuracy: 0.49299997091293335\n",
      "Epoch  6, CIFAR-10 Batch 2:  Training Cost: 1.5424249172210693\n",
      "Validation Accuracy: 0.4877999424934387\n",
      "Epoch  6, CIFAR-10 Batch 3:  Training Cost: 1.3823120594024658\n",
      "Validation Accuracy: 0.51419997215271\n",
      "Epoch  6, CIFAR-10 Batch 4:  Training Cost: 1.3423386812210083\n",
      "Validation Accuracy: 0.5099999904632568\n",
      "Epoch  6, CIFAR-10 Batch 5:  Training Cost: 1.5846190452575684\n",
      "Validation Accuracy: 0.509399950504303\n",
      "Epoch  7, CIFAR-10 Batch 1:  Training Cost: 1.245126485824585\n",
      "Validation Accuracy: 0.519599974155426\n",
      "Epoch  7, CIFAR-10 Batch 2:  Training Cost: 1.4614368677139282\n",
      "Validation Accuracy: 0.5143999457359314\n",
      "Epoch  7, CIFAR-10 Batch 3:  Training Cost: 1.036636233329773\n",
      "Validation Accuracy: 0.5303999185562134\n",
      "Epoch  7, CIFAR-10 Batch 4:  Training Cost: 1.2696423530578613\n",
      "Validation Accuracy: 0.5151999592781067\n",
      "Epoch  7, CIFAR-10 Batch 5:  Training Cost: 1.6470444202423096\n",
      "Validation Accuracy: 0.5165999531745911\n",
      "Epoch  8, CIFAR-10 Batch 1:  Training Cost: 1.0979455709457397\n",
      "Validation Accuracy: 0.5157999396324158\n",
      "Epoch  8, CIFAR-10 Batch 2:  Training Cost: 1.3971192836761475\n",
      "Validation Accuracy: 0.5317999720573425\n",
      "Epoch  8, CIFAR-10 Batch 3:  Training Cost: 1.230100393295288\n",
      "Validation Accuracy: 0.5279999375343323\n",
      "Epoch  8, CIFAR-10 Batch 4:  Training Cost: 1.2382431030273438\n",
      "Validation Accuracy: 0.5215999484062195\n",
      "Epoch  8, CIFAR-10 Batch 5:  Training Cost: 1.5013129711151123\n",
      "Validation Accuracy: 0.5183999538421631\n",
      "Epoch  9, CIFAR-10 Batch 1:  Training Cost: 1.1228162050247192\n",
      "Validation Accuracy: 0.5043999552726746\n",
      "Epoch  9, CIFAR-10 Batch 2:  Training Cost: 1.1862472295761108\n",
      "Validation Accuracy: 0.5339999198913574\n",
      "Epoch  9, CIFAR-10 Batch 3:  Training Cost: 1.0742485523223877\n",
      "Validation Accuracy: 0.5521999597549438\n",
      "Epoch  9, CIFAR-10 Batch 4:  Training Cost: 1.1597589254379272\n",
      "Validation Accuracy: 0.5473999381065369\n",
      "Epoch  9, CIFAR-10 Batch 5:  Training Cost: 1.2705018520355225\n",
      "Validation Accuracy: 0.5423999428749084\n",
      "Epoch 10, CIFAR-10 Batch 1:  Training Cost: 1.3113356828689575\n",
      "Validation Accuracy: 0.5079999566078186\n",
      "Epoch 10, CIFAR-10 Batch 2:  Training Cost: 1.1789616346359253\n",
      "Validation Accuracy: 0.5565999150276184\n",
      "Epoch 10, CIFAR-10 Batch 3:  Training Cost: 1.2015527486801147\n",
      "Validation Accuracy: 0.5365999341011047\n",
      "Epoch 10, CIFAR-10 Batch 4:  Training Cost: 1.301123857498169\n",
      "Validation Accuracy: 0.5593999028205872\n",
      "Epoch 10, CIFAR-10 Batch 5:  Training Cost: 1.3656582832336426\n",
      "Validation Accuracy: 0.5587999224662781\n",
      "Epoch 11, CIFAR-10 Batch 1:  Training Cost: 1.1763277053833008\n",
      "Validation Accuracy: 0.5549999475479126\n",
      "Epoch 11, CIFAR-10 Batch 2:  Training Cost: 1.1125402450561523\n",
      "Validation Accuracy: 0.555199921131134\n",
      "Epoch 11, CIFAR-10 Batch 3:  Training Cost: 0.9226524233818054\n",
      "Validation Accuracy: 0.5329999327659607\n",
      "Epoch 11, CIFAR-10 Batch 4:  Training Cost: 1.222981572151184\n",
      "Validation Accuracy: 0.5241999626159668\n",
      "Epoch 11, CIFAR-10 Batch 5:  Training Cost: 1.4188835620880127\n",
      "Validation Accuracy: 0.5677999258041382\n",
      "Epoch 12, CIFAR-10 Batch 1:  Training Cost: 1.3079235553741455\n",
      "Validation Accuracy: 0.5539999008178711\n",
      "Epoch 12, CIFAR-10 Batch 2:  Training Cost: 1.2073132991790771\n",
      "Validation Accuracy: 0.5543999075889587\n",
      "Epoch 12, CIFAR-10 Batch 3:  Training Cost: 0.8643933534622192\n",
      "Validation Accuracy: 0.5573999285697937\n",
      "Epoch 12, CIFAR-10 Batch 4:  Training Cost: 1.0941095352172852\n",
      "Validation Accuracy: 0.5485999584197998\n",
      "Epoch 12, CIFAR-10 Batch 5:  Training Cost: 1.2689495086669922\n",
      "Validation Accuracy: 0.5777999758720398\n",
      "Epoch 13, CIFAR-10 Batch 1:  Epoch 23, CIFAR-10 Batch 2:  Training Cost: 0.7738853693008423\n",
      "Validation Accuracy: 0.6177998781204224\n",
      "Epoch 23, CIFAR-10 Batch 3:  Training Cost: 0.749158501625061\n",
      "Validation Accuracy: 0.6185999512672424\n",
      "Epoch 23, CIFAR-10 Batch 4:  Training Cost: 0.8812148571014404\n",
      "Validation Accuracy: 0.6059998869895935\n",
      "Epoch 23, CIFAR-10 Batch 5:  Training Cost: 1.2134617567062378\n",
      "Validation Accuracy: 0.6109998822212219\n",
      "Epoch 24, CIFAR-10 Batch 1:  Training Cost: 0.7762466669082642\n",
      "Validation Accuracy: 0.5941998958587646\n",
      "Epoch 24, CIFAR-10 Batch 2:  Training Cost: 0.8416563272476196\n",
      "Validation Accuracy: 0.6121998429298401\n",
      "Epoch 24, CIFAR-10 Batch 3:  Training Cost: 0.8328307867050171\n",
      "Validation Accuracy: 0.6083998680114746\n",
      "Epoch 24, CIFAR-10 Batch 4:  Training Cost: 0.9574054479598999\n",
      "Validation Accuracy: 0.6045998334884644\n",
      "Epoch 24, CIFAR-10 Batch 5:  Training Cost: 1.0122069120407104\n",
      "Validation Accuracy: 0.6133999824523926\n",
      "Epoch 25, CIFAR-10 Batch 1:  Training Cost: 0.9814022779464722\n",
      "Validation Accuracy: 0.6007999181747437\n",
      "Epoch 25, CIFAR-10 Batch 2:  Training Cost: 0.5807768106460571\n",
      "Validation Accuracy: 0.5893998742103577\n",
      "Epoch 25, CIFAR-10 Batch 3:  Training Cost: 0.7542908787727356\n",
      "Validation Accuracy: 0.6093999147415161\n",
      "Epoch 25, CIFAR-10 Batch 4:  Training Cost: 0.9700642824172974\n",
      "Validation Accuracy: 0.6073999404907227\n",
      "Epoch 25, CIFAR-10 Batch 5:  Training Cost: 0.9654067158699036\n",
      "Validation Accuracy: 0.6201998591423035\n",
      "Epoch 26, CIFAR-10 Batch 1:  Training Cost: 0.849870502948761\n",
      "Validation Accuracy: 0.5855998992919922\n",
      "Epoch 26, CIFAR-10 Batch 2:  Training Cost: 0.7326661944389343\n",
      "Validation Accuracy: 0.6271998882293701\n",
      "Epoch 26, CIFAR-10 Batch 3:  Training Cost: 0.8770264387130737\n",
      "Validation Accuracy: 0.6135998964309692\n",
      "Epoch 26, CIFAR-10 Batch 4:  Training Cost: 0.8550677299499512\n",
      "Validation Accuracy: 0.6255999803543091\n",
      "Epoch 26, CIFAR-10 Batch 5:  Training Cost: 0.9874788522720337\n",
      "Validation Accuracy: 0.6009999513626099\n",
      "Epoch 27, CIFAR-10 Batch 1:  Training Cost: 0.7555232644081116\n",
      "Validation Accuracy: 0.6223998665809631\n",
      "Epoch 27, CIFAR-10 Batch 2:  Training Cost: 0.65431809425354\n",
      "Validation Accuracy: 0.622999906539917\n",
      "Epoch 27, CIFAR-10 Batch 3:  Training Cost: 0.7929807901382446\n",
      "Validation Accuracy: 0.6211999654769897\n",
      "Epoch 27, CIFAR-10 Batch 4:  Training Cost: 0.8337207436561584\n",
      "Validation Accuracy: 0.6173999309539795\n",
      "Epoch 27, CIFAR-10 Batch 5:  Training Cost: 1.2924351692199707\n",
      "Validation Accuracy: 0.6143999695777893\n",
      "Epoch 28, CIFAR-10 Batch 1:  Training Cost: 0.628040075302124\n",
      "Validation Accuracy: 0.6077998876571655\n",
      "Epoch 28, CIFAR-10 Batch 2:  Training Cost: 0.925478458404541\n",
      "Validation Accuracy: 0.5865999460220337\n",
      "Epoch 28, CIFAR-10 Batch 3:  Training Cost: 0.7695515155792236\n",
      "Validation Accuracy: 0.6201999187469482\n",
      "Epoch 28, CIFAR-10 Batch 4:  Training Cost: 0.8722417950630188\n",
      "Validation Accuracy: 0.6129998564720154\n",
      "Epoch 28, CIFAR-10 Batch 5:  Training Cost: 0.9317741990089417\n",
      "Validation Accuracy: 0.6085999608039856\n",
      "Epoch 29, CIFAR-10 Batch 1:  Training Cost: 0.7892413139343262\n",
      "Validation Accuracy: 0.6135998368263245\n",
      "Epoch 29, CIFAR-10 Batch 2:  Training Cost: 0.768097996711731\n",
      "Validation Accuracy: 0.6071999073028564\n",
      "Epoch 29, CIFAR-10 Batch 3:  Training Cost: 0.9453859329223633\n",
      "Validation Accuracy: 0.5985998511314392\n",
      "Epoch 29, CIFAR-10 Batch 4:  Training Cost: 0.888793408870697\n",
      "Validation Accuracy: 0.6135998964309692\n",
      "Epoch 29, CIFAR-10 Batch 5:  Training Cost: 1.108879566192627\n",
      "Validation Accuracy: 0.622999906539917\n",
      "Epoch 30, CIFAR-10 Batch 1:  Training Cost: 0.7085669040679932\n",
      "Validation Accuracy: 0.6023999452590942\n",
      "Epoch 30, CIFAR-10 Batch 2:  Training Cost: 0.7335836291313171\n",
      "Validation Accuracy: 0.614599883556366\n",
      "Epoch 30, CIFAR-10 Batch 3:  Training Cost: 0.7908768057823181\n",
      "Validation Accuracy: 0.6311999559402466\n",
      "Epoch 30, CIFAR-10 Batch 4:  Training Cost: 1.0946221351623535\n",
      "Validation Accuracy: 0.6039999127388\n",
      "Epoch 30, CIFAR-10 Batch 5:  Training Cost: 0.8667342662811279\n",
      "Validation Accuracy: 0.6275998950004578\n",
      "Epoch 31, CIFAR-10 Batch 1:  Training Cost: 0.7838748693466187\n",
      "Validation Accuracy: 0.619999885559082\n",
      "Epoch 31, CIFAR-10 Batch 2:  Training Cost: 0.7168986201286316\n",
      "Validation Accuracy: 0.6359999179840088\n",
      "Epoch 31, CIFAR-10 Batch 3:  Training Cost: 0.7683101892471313\n",
      "Validation Accuracy: 0.6315999627113342\n",
      "Epoch 31, CIFAR-10 Batch 4:  Training Cost: 0.8819930553436279\n",
      "Validation Accuracy: 0.6237999200820923\n",
      "Epoch 31, CIFAR-10 Batch 5:  Training Cost: 0.8369220495223999\n",
      "Validation Accuracy: 0.608799934387207\n",
      "Epoch 32, CIFAR-10 Batch 1:  Training Cost: 0.44329434633255005\n",
      "Validation Accuracy: 0.6101998686790466\n",
      "Epoch 32, CIFAR-10 Batch 2:  Training Cost: 0.7605916261672974\n",
      "Validation Accuracy: 0.6251999139785767\n",
      "Epoch 32, CIFAR-10 Batch 3:  Training Cost: 0.8674886226654053\n",
      "Validation Accuracy: 0.6123998761177063\n",
      "Epoch 32, CIFAR-10 Batch 4:  Training Cost: 0.7891940474510193\n",
      "Validation Accuracy: 0.6207998991012573\n",
      "Epoch 32, CIFAR-10 Batch 5:  Training Cost: 0.736687421798706\n",
      "Validation Accuracy: 0.6137999296188354\n",
      "Epoch 33, CIFAR-10 Batch 1:  Training Cost: 0.7029227018356323\n",
      "Validation Accuracy: 0.6241999268531799\n",
      "Epoch 33, CIFAR-10 Batch 2:  Training Cost: 0.6280004978179932\n",
      "Validation Accuracy: 0.6289999485015869\n",
      "Epoch 33, CIFAR-10 Batch 3:  Training Cost: 0.8239102363586426\n",
      "Validation Accuracy: 0.6187999248504639\n",
      "Epoch 33, CIFAR-10 Batch 4:  Training Cost: 0.9255928993225098\n",
      "Validation Accuracy: 0.6281999349594116\n",
      "Epoch 33, CIFAR-10 Batch 5:  Training Cost: 1.0252333879470825\n",
      "Validation Accuracy: 0.6179999113082886\n",
      "Epoch 34, CIFAR-10 Batch 1:  Training Cost: 0.628275990486145\n",
      "Validation Accuracy: 0.6279999017715454\n",
      "Epoch 34, CIFAR-10 Batch 2:  Training Cost: 0.6338423490524292\n",
      "Validation Accuracy: 0.6297999024391174\n",
      "Epoch 34, CIFAR-10 Batch 3:  Training Cost: 0.8300106525421143\n",
      "Validation Accuracy: 0.6285998821258545\n",
      "Epoch 34, CIFAR-10 Batch 4:  Training Cost: 0.7771773338317871\n",
      "Validation Accuracy: 0.6269999146461487\n",
      "Epoch 34, CIFAR-10 Batch 5:  Training Cost: 0.8944673538208008\n",
      "Validation Accuracy: 0.6261998414993286\n",
      "Epoch 35, CIFAR-10 Batch 1:  Training Cost: 0.5681488513946533\n",
      "Validation Accuracy: 0.6171998977661133\n",
      "Epoch 35, CIFAR-10 Batch 2:  Training Cost: 0.5756609439849854\n",
      "Validation Accuracy: 0.6419999003410339\n",
      "Epoch 35, CIFAR-10 Batch 3:  Training Cost: 0.6912473440170288\n",
      "Validation Accuracy: 0.6147998571395874\n",
      "Epoch 35, CIFAR-10 Batch 4:  Training Cost: 1.0425832271575928\n",
      "Validation Accuracy: 0.5993999242782593\n",
      "Epoch 35, CIFAR-10 Batch 5:  Training Cost: 0.7294139862060547\n",
      "Validation Accuracy: 0.622999906539917\n",
      "Epoch 36, CIFAR-10 Batch 1:  Training Cost: 0.8021427392959595\n",
      "Validation Accuracy: 0.6315998435020447\n",
      "Epoch 36, CIFAR-10 Batch 2:  Training Cost: 0.5845818519592285\n",
      "Validation Accuracy: 0.6287998557090759\n",
      "Epoch 36, CIFAR-10 Batch 3:  Training Cost: 0.7211110591888428\n",
      "Validation Accuracy: 0.6159999370574951\n",
      "Epoch 36, CIFAR-10 Batch 4:  Training Cost: 0.9533750414848328\n",
      "Validation Accuracy: 0.6233999729156494\n",
      "Epoch 36, CIFAR-10 Batch 5:  Training Cost: 0.759503960609436\n",
      "Validation Accuracy: 0.6275999546051025\n",
      "Epoch 37, CIFAR-10 Batch 1:  Training Cost: 0.5877705812454224\n",
      "Validation Accuracy: 0.6191999316215515\n",
      "Epoch 37, CIFAR-10 Batch 2:  Training Cost: 0.7980915904045105\n",
      "Validation Accuracy: 0.6169999241828918\n",
      "Epoch 37, CIFAR-10 Batch 3:  Training Cost: 0.7481478452682495\n",
      "Validation Accuracy: 0.6389999389648438\n",
      "Epoch 37, CIFAR-10 Batch 4:  Training Cost: 0.7480095624923706\n",
      "Validation Accuracy: 0.63239985704422\n",
      "Epoch 37, CIFAR-10 Batch 5:  Training Cost: 0.7151985168457031\n",
      "Validation Accuracy: 0.6377999186515808\n",
      "Epoch 38, CIFAR-10 Batch 1:  Training Cost: 0.5166723728179932\n",
      "Validation Accuracy: 0.608599841594696\n",
      "Epoch 38, CIFAR-10 Batch 2:  Training Cost: 0.71818608045578\n",
      "Validation Accuracy: 0.6309999227523804\n",
      "Epoch 38, CIFAR-10 Batch 3:  Training Cost: 0.6740177273750305\n",
      "Validation Accuracy: 0.6243999004364014\n",
      "Epoch 38, CIFAR-10 Batch 4:  Training Cost: 0.9475164413452148\n",
      "Validation Accuracy: 0.6193999648094177\n",
      "Epoch 38, CIFAR-10 Batch 5:  Training Cost: 0.7152426242828369\n",
      "Validation Accuracy: 0.630599856376648\n",
      "Epoch 39, CIFAR-10 Batch 1:  Training Cost: 0.36236459016799927\n",
      "Validation Accuracy: 0.6311998963356018\n",
      "Epoch 39, CIFAR-10 Batch 2:  Training Cost: 0.5942827463150024\n",
      "Validation Accuracy: 0.6465999484062195\n",
      "Epoch 39, CIFAR-10 Batch 3:  Training Cost: 0.587198793888092\n",
      "Validation Accuracy: 0.6203998923301697\n",
      "Epoch 39, CIFAR-10 Batch 4:  Training Cost: 0.8101187348365784\n",
      "Validation Accuracy: 0.635999858379364\n",
      "Epoch 39, CIFAR-10 Batch 5:  Training Cost: 0.6548246741294861\n",
      "Validation Accuracy: 0.6399998664855957\n",
      "Epoch 40, CIFAR-10 Batch 1:  Training Cost: 0.6872074604034424\n",
      "Validation Accuracy: 0.6235998868942261\n",
      "Epoch 40, CIFAR-10 Batch 2:  Training Cost: 0.7062928676605225\n",
      "Validation Accuracy: 0.6367999315261841\n",
      "Epoch 40, CIFAR-10 Batch 3:  Training Cost: 0.6187403798103333\n",
      "Validation Accuracy: 0.6149998903274536\n",
      "Epoch 40, CIFAR-10 Batch 4:  Training Cost: 0.774368405342102\n",
      "Validation Accuracy: 0.6215999126434326\n",
      "Epoch 40, CIFAR-10 Batch 5:  Training Cost: 0.6675634384155273\n",
      "Validation Accuracy: 0.6447999477386475\n",
      "Epoch 41, CIFAR-10 Batch 1:  Training Cost: 0.41226792335510254\n",
      "Validation Accuracy: 0.6369998455047607\n",
      "Epoch 41, CIFAR-10 Batch 2:  Training Cost: 0.5140010118484497\n",
      "Validation Accuracy: 0.6455998420715332\n",
      "Epoch 41, CIFAR-10 Batch 3:  Training Cost: 0.659656286239624\n",
      "Validation Accuracy: 0.6387999653816223\n",
      "Epoch 41, CIFAR-10 Batch 4:  Training Cost: 0.7886711359024048\n",
      "Validation Accuracy: 0.6307998895645142\n",
      "Epoch 41, CIFAR-10 Batch 5:  Training Cost: 0.9206840395927429\n",
      "Validation Accuracy: 0.6283998489379883\n",
      "Epoch 42, CIFAR-10 Batch 1:  Training Cost: 0.4190368056297302\n",
      "Validation Accuracy: 0.6223998665809631\n",
      "Epoch 42, CIFAR-10 Batch 2:  Training Cost: 0.5927106142044067\n",
      "Validation Accuracy: 0.6233999729156494\n",
      "Epoch 42, CIFAR-10 Batch 3:  Training Cost: 0.5210617780685425\n",
      "Validation Accuracy: 0.6313998699188232\n",
      "Epoch 42, CIFAR-10 Batch 4:  Training Cost: 0.7980349659919739\n",
      "Validation Accuracy: 0.6277998685836792\n",
      "Epoch 42, CIFAR-10 Batch 5:  Training Cost: 0.592749834060669\n",
      "Validation Accuracy: 0.6397998929023743\n",
      "Epoch 43, CIFAR-10 Batch 1:  Training Cost: 0.4176812171936035\n",
      "Validation Accuracy: 0.6447998881340027\n",
      "Epoch 43, CIFAR-10 Batch 2:  Training Cost: 0.491119921207428\n",
      "Validation Accuracy: 0.6377999186515808\n",
      "Epoch 43, CIFAR-10 Batch 3:  Training Cost: 0.6822487115859985\n",
      "Validation Accuracy: 0.6337999105453491\n",
      "Epoch 43, CIFAR-10 Batch 4:  Training Cost: 0.7038334608078003\n",
      "Validation Accuracy: 0.637199878692627\n",
      "Epoch 43, CIFAR-10 Batch 5:  Training Cost: 0.715808629989624\n",
      "Validation Accuracy: 0.6393998861312866\n",
      "Epoch 44, CIFAR-10 Batch 1:  Training Cost: 0.40086033940315247\n",
      "Validation Accuracy: 0.631399929523468\n",
      "Epoch 44, CIFAR-10 Batch 2:  Training Cost: 0.49449288845062256\n",
      "Validation Accuracy: 0.6349999308586121\n",
      "Epoch 44, CIFAR-10 Batch 3:  Training Cost: 0.5630990266799927\n",
      "Validation Accuracy: 0.6339998245239258\n",
      "Epoch 44, CIFAR-10 Batch 4:  Training Cost: 0.7915605306625366\n",
      "Validation Accuracy: 0.6533999443054199\n",
      "Epoch 44, CIFAR-10 Batch 5:  Training Cost: 0.866541862487793\n",
      "Validation Accuracy: 0.6295998692512512\n",
      "Epoch 45, CIFAR-10 Batch 1:  Training Cost: 0.48866304755210876\n",
      "Validation Accuracy: 0.6305999159812927\n",
      "Epoch 45, CIFAR-10 Batch 2:  Training Cost: 0.4548603296279907\n",
      "Validation Accuracy: 0.6251999139785767\n",
      "Epoch 45, CIFAR-10 Batch 3:  Training Cost: 0.5027679800987244\n",
      "Validation Accuracy: 0.6277998685836792\n",
      "Epoch 45, CIFAR-10 Batch 4:  Training Cost: 0.7975671291351318\n",
      "Validation Accuracy: 0.6327998638153076\n",
      "Epoch 45, CIFAR-10 Batch 5:  Training Cost: 0.648152232170105\n",
      "Validation Accuracy: 0.6343998908996582\n"
     ]
    }
   ],
   "source": [
    "\"\"\"\n",
    "DON'T MODIFY ANYTHING IN THIS CELL\n",
    "\"\"\"\n",
    "save_model_path = './image_classification'\n",
    "\n",
    "print('Training...')\n",
    "with tf.Session() as sess:\n",
    "    # Initializing the variables\n",
    "    sess.run(tf.global_variables_initializer())\n",
    "    \n",
    "    # Training cycle\n",
    "    for epoch in range(epochs):\n",
    "        # Loop over all batches\n",
    "        n_batches = 5\n",
    "        for batch_i in range(1, n_batches + 1):\n",
    "            for batch_features, batch_labels in helper.load_preprocess_training_batch(batch_i, batch_size):\n",
    "                train_neural_network(sess, optimizer, keep_probability, batch_features, batch_labels)\n",
    "            print('Epoch {:>2}, CIFAR-10 Batch {}:  '.format(epoch + 1, batch_i), end='')\n",
    "            print_stats(sess, batch_features, batch_labels, cost, accuracy)\n",
    "            \n",
    "    # Save Model\n",
    "    saver = tf.train.Saver()\n",
    "    save_path = saver.save(sess, save_model_path)"
   ]
  },
  {
   "cell_type": "markdown",
   "metadata": {
    "deletable": true,
    "editable": true
   },
   "source": [
    "# Checkpoint\n",
    "The model has been saved to disk.\n",
    "## Test Model\n",
    "Test your model against the test dataset.  This will be your final accuracy. You should have an accuracy greater than 50%. If you don't, keep tweaking the model architecture and parameters."
   ]
  },
  {
   "cell_type": "code",
   "execution_count": 1,
   "metadata": {
    "collapsed": false,
    "deletable": true,
    "editable": true
   },
   "outputs": [
    {
     "name": "stdout",
     "output_type": "stream",
     "text": [
      "Testing Accuracy: 0.627687101910828\n",
      "\n"
     ]
    },
    {
     "data": {
      "image/png": "[encoded data removed]",
      "text/plain": [
       "<matplotlib.figure.Figure at 0x7f2a20808f28>"
      ]
     },
     "metadata": {
      "image/png": {
       "height": 319,
       "width": 355
      }
     },
     "output_type": "display_data"
    }
   ],
   "source": [
    "\"\"\"\n",
    "DON'T MODIFY ANYTHING IN THIS CELL\n",
    "\"\"\"\n",
    "%matplotlib inline\n",
    "%config InlineBackend.figure_format = 'retina'\n",
    "\n",
    "import tensorflow as tf\n",
    "import pickle\n",
    "import helper\n",
    "import random\n",
    "\n",
    "# Set batch size if not already set\n",
    "try:\n",
    "    if batch_size:\n",
    "        pass\n",
    "except NameError:\n",
    "    batch_size = 64\n",
    "\n",
    "save_model_path = './image_classification'\n",
    "n_samples = 4\n",
    "top_n_predictions = 3\n",
    "\n",
    "def test_model():\n",
    "    \"\"\"\n",
    "    Test the saved model against the test dataset\n",
    "    \"\"\"\n",
    "\n",
    "    test_features, test_labels = pickle.load(open('preprocess_training.p', mode='rb'))\n",
    "    loaded_graph = tf.Graph()\n",
    "\n",
    "    with tf.Session(graph=loaded_graph) as sess:\n",
    "        # Load model\n",
    "        loader = tf.train.import_meta_graph(save_model_path + '.meta')\n",
    "        loader.restore(sess, save_model_path)\n",
    "\n",
    "        # Get Tensors from loaded model\n",
    "        loaded_x = loaded_graph.get_tensor_by_name('x:0')\n",
    "        loaded_y = loaded_graph.get_tensor_by_name('y:0')\n",
    "        loaded_keep_prob = loaded_graph.get_tensor_by_name('keep_prob:0')\n",
    "        loaded_logits = loaded_graph.get_tensor_by_name('logits:0')\n",
    "        loaded_acc = loaded_graph.get_tensor_by_name('accuracy:0')\n",
    "        \n",
    "        # Get accuracy in batches for memory limitations\n",
    "        test_batch_acc_total = 0\n",
    "        test_batch_count = 0\n",
    "        \n",
    "        for train_feature_batch, train_label_batch in helper.batch_features_labels(test_features, test_labels, batch_size):\n",
    "            test_batch_acc_total += sess.run(\n",
    "                loaded_acc,\n",
    "                feed_dict={loaded_x: train_feature_batch, loaded_y: train_label_batch, loaded_keep_prob: 1.0})\n",
    "            test_batch_count += 1\n",
    "\n",
    "        print('Testing Accuracy: {}\\n'.format(test_batch_acc_total/test_batch_count))\n",
    "\n",
    "        # Print Random Samples\n",
    "        random_test_features, random_test_labels = tuple(zip(*random.sample(list(zip(test_features, test_labels)), n_samples)))\n",
    "        random_test_predictions = sess.run(\n",
    "            tf.nn.top_k(tf.nn.softmax(loaded_logits), top_n_predictions),\n",
    "            feed_dict={loaded_x: random_test_features, loaded_y: random_test_labels, loaded_keep_prob: 1.0})\n",
    "        helper.display_image_predictions(random_test_features, random_test_labels, random_test_predictions)\n",
    "\n",
    "\n",
    "test_model()"
   ]
  },
  {
   "cell_type": "markdown",
   "metadata": {
    "deletable": true,
    "editable": true
   },
   "source": [
    "## Why 50-70% Accuracy?\n",
    "You might be wondering why you can't get an accuracy any higher. First things first, 50% isn't bad for a simple CNN.  Pure guessing would get you 10% accuracy. However, you might notice people are getting scores [well above 70%](http://rodrigob.github.io/are_we_there_yet/build/classification_datasets_results.html#43494641522d3130).  That's because we haven't taught you all there is to know about neural networks. We still need to cover a few more techniques.\n",
    "## Submitting This Project\n",
    "When submitting this project, make sure to run all the cells before saving the notebook.  Save the notebook file as \"dlnd_image_classification.ipynb\" and save it as a HTML file under \"File\" -> \"Download as\".  Include the \"helper.py\" and \"problem_unittests.py\" files in your submission."
   ]
  }
 ],
 "metadata": {
  "kernelspec": {
   "display_name": "Python 3",
   "language": "python",
   "name": "python3"
  },
  "language_info": {
   "codemirror_mode": {
    "name": "ipython",
    "version": 3
   },
   "file_extension": ".py",
   "mimetype": "text/x-python",
   "name": "python",
   "nbconvert_exporter": "python",
   "pygments_lexer": "ipython3",
   "version": "3.5.2"
  },
  "widgets": {
   "state": {},
   "version": "1.1.2"
  }
 },
 "nbformat": 4,
 "nbformat_minor": 0
}
